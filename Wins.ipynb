{
 "cells": [
  {
   "cell_type": "code",
   "execution_count": 8,
   "metadata": {},
   "outputs": [],
   "source": [
    "import pandas as pd\n",
    "import numpy as np\n",
    "import statsmodels.api as sm"
   ]
  },
  {
   "cell_type": "code",
   "execution_count": 17,
   "metadata": {},
   "outputs": [
    {
     "output_type": "execute_result",
     "data": {
      "text/plain": "Index(['TEAM_ID', ' TEAM_NAME', ' GP', ' W', ' L', ' W_PCT', ' MIN', ' FGM',\n       ' FGA', ' FG_PCT', ' FG3M', ' FG3A', ' FG3_PCT', ' FTM', ' FTA',\n       ' FT_PCT', ' OREB', ' DREB', ' REB', ' AST', ' TOV', ' STL', ' BLK',\n       ' BLKA', ' PF', ' PFD', ' PTS', ' PLUS_MINUS', ' GP_RANK', ' W_RANK',\n       ' L_RANK', ' W_PCT_RANK', ' MIN_RANK', ' FGM_RANK', ' FGA_RANK',\n       ' FG_PCT_RANK', ' FG3M_RANK', ' FG3A_RANK', ' FG3_PCT_RANK',\n       ' FTM_RANK', ' FTA_RANK', ' FT_PCT_RANK', ' OREB_RANK', ' DREB_RANK',\n       ' REB_RANK', ' AST_RANK', ' TOV_RANK', ' STL_RANK', ' BLK_RANK',\n       ' BLKA_RANK', ' PF_RANK', ' PFD_RANK', ' PTS_RANK', ' PLUS_MINUS_RANK',\n       ' CFPARAMS'],\n      dtype='object')"
     },
     "metadata": {},
     "execution_count": 17
    }
   ],
   "source": [
    "basic_team_stats = pd.read_csv('nba_data/NBA_Stats_Official/basic_team_stats.csv')\n",
    "basic_team_stats.columns"
   ]
  },
  {
   "cell_type": "code",
   "execution_count": 93,
   "metadata": {},
   "outputs": [
    {
     "output_type": "execute_result",
     "data": {
      "text/plain": "    PLUS_MINUS   FGM_RANK   FGA_RANK   FG_PCT_RANK   FG3M_RANK   FG3A_RANK  \\\n0         -8.0         16          8            23          17           8   \n1          6.2         12         12            18          12          14   \n2         -0.6         24          9            26           9           5   \n3         -6.8         30         26            30          16          13   \n4         -3.1         26         17            25          14           9   \n\n    FG3_PCT_RANK   FTM_RANK   FTA_RANK   FT_PCT_RANK  ...   AST_RANK  \\\n0             30          9         12             9  ...         18   \n1             13         11         16             4  ...         25   \n2             26         13          7            25  ...         16   \n3             20         25         24            24  ...         20   \n4             24         28         26            21  ...         23   \n\n    TOV_RANK   STL_RANK   BLK_RANK   BLKA_RANK   PF_RANK   PFD_RANK  \\\n0         28         13         13          30        30          9   \n1          7          7          6          25        19         13   \n2         27         27         21          23        16         10   \n3         14         26         26          19         3         16   \n4         26          1         27          28        24         29   \n\n    PTS_RANK   PLUS_MINUS_RANK            CFPARAMS  \n0         16                29       Atlanta Hawks  \n1         11                 5      Boston Celtics  \n2         18                14       Brooklyn Nets  \n3         30                27   Charlotte Hornets  \n4         26                22       Chicago Bulls  \n\n[5 rows x 23 columns]",
      "text/html": "<div>\n<style scoped>\n    .dataframe tbody tr th:only-of-type {\n        vertical-align: middle;\n    }\n\n    .dataframe tbody tr th {\n        vertical-align: top;\n    }\n\n    .dataframe thead th {\n        text-align: right;\n    }\n</style>\n<table border=\"1\" class=\"dataframe\">\n  <thead>\n    <tr style=\"text-align: right;\">\n      <th></th>\n      <th>PLUS_MINUS</th>\n      <th>FGM_RANK</th>\n      <th>FGA_RANK</th>\n      <th>FG_PCT_RANK</th>\n      <th>FG3M_RANK</th>\n      <th>FG3A_RANK</th>\n      <th>FG3_PCT_RANK</th>\n      <th>FTM_RANK</th>\n      <th>FTA_RANK</th>\n      <th>FT_PCT_RANK</th>\n      <th>...</th>\n      <th>AST_RANK</th>\n      <th>TOV_RANK</th>\n      <th>STL_RANK</th>\n      <th>BLK_RANK</th>\n      <th>BLKA_RANK</th>\n      <th>PF_RANK</th>\n      <th>PFD_RANK</th>\n      <th>PTS_RANK</th>\n      <th>PLUS_MINUS_RANK</th>\n      <th>CFPARAMS</th>\n    </tr>\n  </thead>\n  <tbody>\n    <tr>\n      <th>0</th>\n      <td>-8.0</td>\n      <td>16</td>\n      <td>8</td>\n      <td>23</td>\n      <td>17</td>\n      <td>8</td>\n      <td>30</td>\n      <td>9</td>\n      <td>12</td>\n      <td>9</td>\n      <td>...</td>\n      <td>18</td>\n      <td>28</td>\n      <td>13</td>\n      <td>13</td>\n      <td>30</td>\n      <td>30</td>\n      <td>9</td>\n      <td>16</td>\n      <td>29</td>\n      <td>Atlanta Hawks</td>\n    </tr>\n    <tr>\n      <th>1</th>\n      <td>6.2</td>\n      <td>12</td>\n      <td>12</td>\n      <td>18</td>\n      <td>12</td>\n      <td>14</td>\n      <td>13</td>\n      <td>11</td>\n      <td>16</td>\n      <td>4</td>\n      <td>...</td>\n      <td>25</td>\n      <td>7</td>\n      <td>7</td>\n      <td>6</td>\n      <td>25</td>\n      <td>19</td>\n      <td>13</td>\n      <td>11</td>\n      <td>5</td>\n      <td>Boston Celtics</td>\n    </tr>\n    <tr>\n      <th>2</th>\n      <td>-0.6</td>\n      <td>24</td>\n      <td>9</td>\n      <td>26</td>\n      <td>9</td>\n      <td>5</td>\n      <td>26</td>\n      <td>13</td>\n      <td>7</td>\n      <td>25</td>\n      <td>...</td>\n      <td>16</td>\n      <td>27</td>\n      <td>27</td>\n      <td>21</td>\n      <td>23</td>\n      <td>16</td>\n      <td>10</td>\n      <td>18</td>\n      <td>14</td>\n      <td>Brooklyn Nets</td>\n    </tr>\n    <tr>\n      <th>3</th>\n      <td>-6.8</td>\n      <td>30</td>\n      <td>26</td>\n      <td>30</td>\n      <td>16</td>\n      <td>13</td>\n      <td>20</td>\n      <td>25</td>\n      <td>24</td>\n      <td>24</td>\n      <td>...</td>\n      <td>20</td>\n      <td>14</td>\n      <td>26</td>\n      <td>26</td>\n      <td>19</td>\n      <td>3</td>\n      <td>16</td>\n      <td>30</td>\n      <td>27</td>\n      <td>Charlotte Hornets</td>\n    </tr>\n    <tr>\n      <th>4</th>\n      <td>-3.1</td>\n      <td>26</td>\n      <td>17</td>\n      <td>25</td>\n      <td>14</td>\n      <td>9</td>\n      <td>24</td>\n      <td>28</td>\n      <td>26</td>\n      <td>21</td>\n      <td>...</td>\n      <td>23</td>\n      <td>26</td>\n      <td>1</td>\n      <td>27</td>\n      <td>28</td>\n      <td>24</td>\n      <td>29</td>\n      <td>26</td>\n      <td>22</td>\n      <td>Chicago Bulls</td>\n    </tr>\n  </tbody>\n</table>\n<p>5 rows × 23 columns</p>\n</div>"
     },
     "metadata": {},
     "execution_count": 93
    }
   ],
   "source": [
    "basic_team_stats[[\" PLUS_MINUS\", ' FGM_RANK', ' FGA_RANK',\n",
    "       ' FG_PCT_RANK', ' FG3M_RANK', ' FG3A_RANK', ' FG3_PCT_RANK',\n",
    "       ' FTM_RANK', ' FTA_RANK', ' FT_PCT_RANK', ' OREB_RANK', ' DREB_RANK',\n",
    "       ' REB_RANK', ' AST_RANK', ' TOV_RANK', ' STL_RANK', ' BLK_RANK',\n",
    "       ' BLKA_RANK', ' PF_RANK', ' PFD_RANK', ' PTS_RANK', ' PLUS_MINUS_RANK',\n",
    "       ' CFPARAMS']].head()"
   ]
  },
  {
   "cell_type": "code",
   "execution_count": 76,
   "metadata": {
    "tags": []
   },
   "outputs": [
    {
     "output_type": "stream",
     "name": "stdout",
     "text": "OLS Regression Results                            \n==============================================================================\nDep. Variable:             PLUS_MINUS   R-squared:                       0.301\nModel:                            OLS   Adj. R-squared:                  0.276\nMethod:                 Least Squares   F-statistic:                     12.07\nDate:                Sun, 26 Jul 2020   Prob (F-statistic):            0.00168\nTime:                        17:32:39   Log-Likelihood:                -85.716\nNo. Observations:                  30   AIC:                             175.4\nDf Residuals:                      28   BIC:                             178.2\nDf Model:                           1                                         \nCovariance Type:            nonrobust                                         \n==============================================================================\n                 coef    std err          t      P>|t|      [0.025      0.975]\n------------------------------------------------------------------------------\nconst        -83.6445     24.090     -3.472      0.002    -132.991     -34.298\n FGM           2.0489      0.590      3.475      0.002       0.841       3.257\n==============================================================================\nOmnibus:                        6.001   Durbin-Watson:                   2.103\nProb(Omnibus):                  0.050   Jarque-Bera (JB):                1.940\nSkew:                          -0.109   Prob(JB):                        0.379\nKurtosis:                       1.773   Cond. No.                     1.24e+03\n==============================================================================\n\nWarnings:\n[1] Standard Errors assume that the covariance matrix of the errors is correctly specified.\n[2] The condition number is large, 1.24e+03. This might indicate that there are\nstrong multicollinearity or other numerical problems.\n"
    }
   ],
   "source": [
    "x = basic_team_stats[\" FGM\"]\n",
    "y = basic_team_stats[' PLUS_MINUS']\n",
    "\n",
    "xc = sm.add_constant(x)\n",
    "est = sm.OLS(y, xc, missing='drop').fit()\n",
    "print(est.summary())"
   ]
  },
  {
   "cell_type": "code",
   "execution_count": 88,
   "metadata": {
    "tags": []
   },
   "outputs": [
    {
     "output_type": "stream",
     "name": "stdout",
     "text": "ValueError on   TEAM_NAME\nValueError on   CFPARAMS\n"
    },
    {
     "output_type": "execute_result",
     "data": {
      "text/plain": "               stats                                             coeffs  \\\n0            TEAM_ID  const      1.247716e-17\nTEAM_ID    2.009587e-0...   \n1                  W  const    3.552714e-15\n W       1.000000e+00\ndt...   \n2                  L  const    63.632862\n L       -0.966000\ndtype: f...   \n3              W_PCT  const      0.453082\n W_PCT    63.712487\ndtype:...   \n4                FGM  const   -127.836741\n FGM       3.923349\ndtype:...   \n5             FG_PCT  const     -226.555022\n FG_PCT    563.036435\ndt...   \n6            FG3_PCT  const       -88.277590\n FG3_PCT    337.403534\n...   \n7               DREB  const   -77.679161\n DREB     3.167090\ndtype: f...   \n8                REB  const   -78.509910\n REB      2.471797\ndtype: f...   \n9                BLK  const    3.577458\n BLK     5.827775\ndtype: flo...   \n10              BLKA  const    76.034757\n BLKA    -8.857625\ndtype: f...   \n11               PTS  const   -130.331174\n PTS       1.459653\ndtype:...   \n12        PLUS_MINUS  const          32.327430\n PLUS_MINUS     1.961...   \n13            W_RANK  const      50.054233\n W_RANK    -1.166213\ndtyp...   \n14            L_RANK  const      50.085944\n L_RANK    -1.165742\ndtyp...   \n15        W_PCT_RANK  const          50.308361\n W_PCT_RANK    -1.165...   \n16          FGM_RANK  const        41.280460\n FGM_RANK    -0.575083\n...   \n17       FG_PCT_RANK  const           44.839080\n FG_PCT_RANK    -0.8...   \n18      FG3_PCT_RANK  const            40.032184\n FG3_PCT_RANK    -0...   \n19         DREB_RANK  const         44.066667\n DREB_RANK    -0.75483...   \n20          REB_RANK  const        41.452874\n REB_RANK    -0.586207\n...   \n21          BLK_RANK  const        39.170115\n BLK_RANK    -0.438932\n...   \n22         BLKA_RANK  const         42.997701\n BLKA_RANK    -0.68587...   \n23          PTS_RANK  const        41.577208\n PTS_RANK    -0.596795\n...   \n24   PLUS_MINUS_RANK  const               50.101149\n PLUS_MINUS_RANK...   \n\n    rsquared  \n0     -0.000  \n1      1.000  \n2      0.992  \n3      0.998  \n4      0.267  \n5      0.472  \n6      0.204  \n7      0.428  \n8      0.286  \n9      0.181  \n10     0.325  \n11     0.300  \n12     0.931  \n13     0.978  \n14     0.964  \n15     0.974  \n16     0.236  \n17     0.462  \n18     0.174  \n19     0.406  \n20     0.245  \n21     0.137  \n22     0.336  \n23     0.256  \n24     0.934  ",
      "text/html": "<div>\n<style scoped>\n    .dataframe tbody tr th:only-of-type {\n        vertical-align: middle;\n    }\n\n    .dataframe tbody tr th {\n        vertical-align: top;\n    }\n\n    .dataframe thead th {\n        text-align: right;\n    }\n</style>\n<table border=\"1\" class=\"dataframe\">\n  <thead>\n    <tr style=\"text-align: right;\">\n      <th></th>\n      <th>stats</th>\n      <th>coeffs</th>\n      <th>rsquared</th>\n    </tr>\n  </thead>\n  <tbody>\n    <tr>\n      <th>0</th>\n      <td>TEAM_ID</td>\n      <td>const      1.247716e-17\nTEAM_ID    2.009587e-0...</td>\n      <td>-0.000</td>\n    </tr>\n    <tr>\n      <th>1</th>\n      <td>W</td>\n      <td>const    3.552714e-15\n W       1.000000e+00\ndt...</td>\n      <td>1.000</td>\n    </tr>\n    <tr>\n      <th>2</th>\n      <td>L</td>\n      <td>const    63.632862\n L       -0.966000\ndtype: f...</td>\n      <td>0.992</td>\n    </tr>\n    <tr>\n      <th>3</th>\n      <td>W_PCT</td>\n      <td>const      0.453082\n W_PCT    63.712487\ndtype:...</td>\n      <td>0.998</td>\n    </tr>\n    <tr>\n      <th>4</th>\n      <td>FGM</td>\n      <td>const   -127.836741\n FGM       3.923349\ndtype:...</td>\n      <td>0.267</td>\n    </tr>\n    <tr>\n      <th>5</th>\n      <td>FG_PCT</td>\n      <td>const     -226.555022\n FG_PCT    563.036435\ndt...</td>\n      <td>0.472</td>\n    </tr>\n    <tr>\n      <th>6</th>\n      <td>FG3_PCT</td>\n      <td>const       -88.277590\n FG3_PCT    337.403534\n...</td>\n      <td>0.204</td>\n    </tr>\n    <tr>\n      <th>7</th>\n      <td>DREB</td>\n      <td>const   -77.679161\n DREB     3.167090\ndtype: f...</td>\n      <td>0.428</td>\n    </tr>\n    <tr>\n      <th>8</th>\n      <td>REB</td>\n      <td>const   -78.509910\n REB      2.471797\ndtype: f...</td>\n      <td>0.286</td>\n    </tr>\n    <tr>\n      <th>9</th>\n      <td>BLK</td>\n      <td>const    3.577458\n BLK     5.827775\ndtype: flo...</td>\n      <td>0.181</td>\n    </tr>\n    <tr>\n      <th>10</th>\n      <td>BLKA</td>\n      <td>const    76.034757\n BLKA    -8.857625\ndtype: f...</td>\n      <td>0.325</td>\n    </tr>\n    <tr>\n      <th>11</th>\n      <td>PTS</td>\n      <td>const   -130.331174\n PTS       1.459653\ndtype:...</td>\n      <td>0.300</td>\n    </tr>\n    <tr>\n      <th>12</th>\n      <td>PLUS_MINUS</td>\n      <td>const          32.327430\n PLUS_MINUS     1.961...</td>\n      <td>0.931</td>\n    </tr>\n    <tr>\n      <th>13</th>\n      <td>W_RANK</td>\n      <td>const      50.054233\n W_RANK    -1.166213\ndtyp...</td>\n      <td>0.978</td>\n    </tr>\n    <tr>\n      <th>14</th>\n      <td>L_RANK</td>\n      <td>const      50.085944\n L_RANK    -1.165742\ndtyp...</td>\n      <td>0.964</td>\n    </tr>\n    <tr>\n      <th>15</th>\n      <td>W_PCT_RANK</td>\n      <td>const          50.308361\n W_PCT_RANK    -1.165...</td>\n      <td>0.974</td>\n    </tr>\n    <tr>\n      <th>16</th>\n      <td>FGM_RANK</td>\n      <td>const        41.280460\n FGM_RANK    -0.575083\n...</td>\n      <td>0.236</td>\n    </tr>\n    <tr>\n      <th>17</th>\n      <td>FG_PCT_RANK</td>\n      <td>const           44.839080\n FG_PCT_RANK    -0.8...</td>\n      <td>0.462</td>\n    </tr>\n    <tr>\n      <th>18</th>\n      <td>FG3_PCT_RANK</td>\n      <td>const            40.032184\n FG3_PCT_RANK    -0...</td>\n      <td>0.174</td>\n    </tr>\n    <tr>\n      <th>19</th>\n      <td>DREB_RANK</td>\n      <td>const         44.066667\n DREB_RANK    -0.75483...</td>\n      <td>0.406</td>\n    </tr>\n    <tr>\n      <th>20</th>\n      <td>REB_RANK</td>\n      <td>const        41.452874\n REB_RANK    -0.586207\n...</td>\n      <td>0.245</td>\n    </tr>\n    <tr>\n      <th>21</th>\n      <td>BLK_RANK</td>\n      <td>const        39.170115\n BLK_RANK    -0.438932\n...</td>\n      <td>0.137</td>\n    </tr>\n    <tr>\n      <th>22</th>\n      <td>BLKA_RANK</td>\n      <td>const         42.997701\n BLKA_RANK    -0.68587...</td>\n      <td>0.336</td>\n    </tr>\n    <tr>\n      <th>23</th>\n      <td>PTS_RANK</td>\n      <td>const        41.577208\n PTS_RANK    -0.596795\n...</td>\n      <td>0.256</td>\n    </tr>\n    <tr>\n      <th>24</th>\n      <td>PLUS_MINUS_RANK</td>\n      <td>const               50.101149\n PLUS_MINUS_RANK...</td>\n      <td>0.934</td>\n    </tr>\n  </tbody>\n</table>\n</div>"
     },
     "metadata": {},
     "execution_count": 88
    }
   ],
   "source": [
    "stats = []\n",
    "coeffs = []\n",
    "rsquared = []\n",
    "for stat in basic_team_stats.columns:\n",
    "    try:\n",
    "        x = basic_team_stats[stat]\n",
    "        y = basic_team_stats[' W']\n",
    "\n",
    "        xc = sm.add_constant(x)\n",
    "        est = sm.OLS(y, xc, missing='drop').fit()\n",
    "         \n",
    "        conf_int = est.conf_int()\n",
    "        if not conf_int[0][1] <= 0 <= conf_int[1][1]:\n",
    "            #print(est.summary())\n",
    "            stats.append(stat)\n",
    "            coeffs.append(est.params)\n",
    "            rsquared.append(round(est.rsquared, 3))\n",
    "\n",
    "    except ValueError:\n",
    "        print(\"ValueError on \", stat)\n",
    "        continue\n",
    "\n",
    "stats_df = pd.DataFrame(\n",
    "    {'stats': stats,\n",
    "     'coeffs': coeffs,\n",
    "     'rsquared': rsquared\n",
    "    })\n",
    "\n",
    "stats_df"
   ]
  },
  {
   "cell_type": "code",
   "execution_count": 92,
   "metadata": {},
   "outputs": [
    {
     "output_type": "execute_result",
     "data": {
      "text/plain": "Index(['TEAM_ID', ' W', ' L', ' W_PCT', ' FGM', ' FG_PCT', ' FG3_PCT', ' DREB',\n       ' REB', ' BLK', ' BLKA', ' PTS', ' PLUS_MINUS', ' W_RANK', ' L_RANK',\n       ' W_PCT_RANK', ' FGM_RANK', ' FG_PCT_RANK', ' FG3_PCT_RANK',\n       ' DREB_RANK', ' REB_RANK', ' BLK_RANK', ' BLKA_RANK', ' PTS_RANK',\n       ' PLUS_MINUS_RANK'],\n      dtype='object')"
     },
     "metadata": {},
     "execution_count": 92
    }
   ],
   "source": [
    "basic_team_stats[stats].columns"
   ]
  },
  {
   "cell_type": "code",
   "execution_count": null,
   "metadata": {},
   "outputs": [],
   "source": []
  }
 ],
 "metadata": {
  "kernelspec": {
   "display_name": "Python 3",
   "language": "python",
   "name": "python3"
  },
  "language_info": {
   "codemirror_mode": {
    "name": "ipython",
    "version": 3
   },
   "file_extension": ".py",
   "mimetype": "text/x-python",
   "name": "python",
   "nbconvert_exporter": "python",
   "pygments_lexer": "ipython3",
   "version": "3.7.6-final"
  }
 },
 "nbformat": 4,
 "nbformat_minor": 4
}