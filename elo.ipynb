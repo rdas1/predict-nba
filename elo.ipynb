{
 "metadata": {
  "language_info": {
   "codemirror_mode": {
    "name": "ipython",
    "version": 3
   },
   "file_extension": ".py",
   "mimetype": "text/x-python",
   "name": "python",
   "nbconvert_exporter": "python",
   "pygments_lexer": "ipython3",
   "version": "3.7.6-final"
  },
  "orig_nbformat": 2,
  "kernelspec": {
   "name": "python3",
   "display_name": "Python 3"
  }
 },
 "nbformat": 4,
 "nbformat_minor": 2,
 "cells": [
  {
   "cell_type": "code",
   "execution_count": 50,
   "metadata": {},
   "outputs": [],
   "source": [
    "import pandas as pd\n",
    "import matplotlib.pyplot as plt\n",
    "import random\n",
    "import math"
   ]
  },
  {
   "cell_type": "code",
   "execution_count": 68,
   "metadata": {},
   "outputs": [
    {
     "output_type": "execute_result",
     "data": {
      "text/plain": "(4920, 41)"
     },
     "metadata": {},
     "execution_count": 68
    }
   ],
   "source": [
    "games_data = pd.read_csv('nba_games_stats.csv')\n",
    "games_data = games_data[games_data.Home == 'Home'] # remove duplicate games\n",
    "games_data = games_data[games_data.Date < '2015-10-27'] # remove duplicate games\n",
    "games_data.shape"
   ]
  },
  {
   "cell_type": "code",
   "execution_count": 52,
   "metadata": {},
   "outputs": [
    {
     "output_type": "execute_result",
     "data": {
      "text/plain": "Index(['gameorder', 'game_id', 'lg_id', '_iscopy', 'year_id', 'date_game',\n       'seasongame', 'is_playoffs', 'team_id', 'fran_id', 'pts', 'elo_i',\n       'elo_n', 'win_equiv', 'opp_id', 'opp_fran', 'opp_pts', 'opp_elo_i',\n       'opp_elo_n', 'game_location', 'game_result', 'forecast', 'notes'],\n      dtype='object')"
     },
     "metadata": {},
     "execution_count": 52
    }
   ],
   "source": [
    "elo_data = pd.read_csv('nbaallelo.csv')\n",
    "elo_data.columns"
   ]
  },
  {
   "cell_type": "code",
   "execution_count": 85,
   "metadata": {
    "tags": []
   },
   "outputs": [
    {
     "output_type": "execute_result",
     "data": {
      "text/plain": "{'HOU': 1596.4641,\n 'LAL': 1421.9985,\n 'NOP': 1457.2185,\n 'ORL': 1359.4265,\n 'SAS': 1699.5024,\n 'DAL': 1592.0101,\n 'BOS': 1378.5464,\n 'BRK': 1518.2666,\n 'MIL': 1317.8491,\n 'CHO': 1511.0031,\n 'DEN': 1473.0493,\n 'DET': 1389.2994,\n 'IND': 1532.6748,\n 'PHI': 1316.4243,\n 'MEM': 1578.4064,\n 'MIN': 1513.3354,\n 'WAS': 1541.4388,\n 'MIA': 1579.3748,\n 'NYK': 1534.4419,\n 'CHI': 1547.2185,\n 'PHO': 1560.1208,\n 'OKC': 1619.7805,\n 'POR': 1567.8318,\n 'GSW': 1590.7976,\n 'SAC': 1431.1567,\n 'TOR': 1550.7469,\n 'ATL': 1490.1147,\n 'UTA': 1373.317,\n 'CLE': 1463.7213,\n 'LAC': 1630.6335}"
     },
     "metadata": {},
     "execution_count": 85
    }
   ],
   "source": [
    "initial_elos = {}\n",
    "for i, first_game in elo_data[elo_data.year_id == 2015][elo_data.seasongame == 1].iterrows():\n",
    "    initial_elos[first_game.team_id] = first_game.elo_i\n",
    "initial_elos\n",
    "#sorted(initial_elos.items())"
   ]
  },
  {
   "cell_type": "code",
   "execution_count": 84,
   "metadata": {
    "tags": [
     "outputPrepend"
    ]
   },
   "outputs": [
    {
     "output_type": "stream",
     "name": "stdout",
     "text": "ing: 80601.84549914717)\nPredicted Score Margin: BOS by 11.553496788712177\n0.13444640374490535\n0.8655535962550946\n1.0\nScore: TOR 111, BOS 91\n-14.609058782015452\nTOR (rating: 80363.7385302812) vs NYK (rating: 86499.78780799029)\nPredicted Score Margin: NYK by 219.1446170610387\n4.569585479466128e-16\n0.9999999999999996\n1.0\nScore: TOR 113, NYK 88\n-1.0414899133867699\nTOR (rating: 80462.69704036781) vs MIA (rating: 84140.99554487527)\nPredicted Score Margin: MIA by 131.3678037324093\n6.371676801894371e-10\n0.9999999993628323\n1.0\nScore: TOR 115, MIA 112\n-0.5066307098023377\nTOR (rating: 80562.19040965801) vs MIL (rating: 83350.67292054169)\nPredicted Score Margin: MIL by 99.58866110298861\n1.0685471157321794e-07\n0.9999998931452885\n1.0\nScore: TOR 119, MIL 122\n-7.141085511509112e-08\nTOR (rating: 80662.1904095866) vs DET (rating: 77992.5927583072)\nPredicted Score Margin: TOR by 95.34277325997859\n0.9999997881610672\n2.1183893283982513e-07\n1.0\nScore: TOR 123, DET 94\n5.642836059438607e-07\nTOR (rating: 80762.19041015088) vs CHO (rating: 84658.292898786)\nPredicted Score Margin: CHO by 139.14651745125437\n1.8186276023352756e-10\n0.9999999998181373\n1.0\nScore: TOR 103, CHO 98\n-0.6020867900138831\nTOR (rating: 80861.58832336088) vs ATL (rating: 84399.95284510484)\nPredicted Score Margin: ATL by 126.3701614908558\n1.4258987720838054e-09\n0.9999999985741013\n1.0\nScore: TOR 106, ATL 90\n-1.324395785919928\nTOR (rating: 80960.26392757495) vs HOU (rating: 83820.96711520571)\nPredicted Score Margin: HOU by 102.16797098681283\n7.050858518937584e-08\n0.9999999294914148\n1.0\nScore: TOR 108, HOU 105\n-0.6514268449984733\nTOR (rating: 81059.61250072996) vs DAL (rating: 83470.75371264333)\nPredicted Score Margin: DAL by 86.11218613976338\n9.378784627002426e-07\n0.9999990621215373\n1.0\nScore: TOR 122, DAL 115\n-1.1630394024416528\nTOR (rating: 81158.44946132752) vs OKC (rating: 83094.5728305283)\nPredicted Score Margin: OKC by 69.14726318574218\n1.4443927638908785e-05\n0.9999855560723611\n1.0\nScore: TOR 125, OKC 132\n-2.092038915812581e-05\nTOR (rating: 81258.44944040713) vs BRK (rating: 84660.24846075893)\nPredicted Score Margin: BRK by 121.49282215542136\n3.129698111051685e-09\n0.9999999968703019\n1.0\nScore: TOR 116, BRK 112\n-0.6197082257007015\nTOR (rating: 81357.82973218143) vs LAC (rating: 77767.17784610098)\nPredicted Score Margin: TOR by 128.23756736001607\n0.9999999989447137\n1.0552863027868398e-09\n1.0\nScore: TOR 106, LAC 117\n1.022225258042284\nTOR (rating: 81458.85195743947) vs DEN (rating: 84465.50017809558)\nPredicted Score Margin: DEN by 107.38029359486089\n3.043542952200673e-08\n0.9999999695645705\n1.0\nScore: TOR 114, DEN 110\n-0.7011537841526171\nTOR (rating: 81558.15080365533) vs BOS (rating: 80616.45455792919)\nPredicted Score Margin: TOR by 33.63200877593356\n0.9955960482737815\n0.004403951726218547\n1.0\nScore: TOR 96, BOS 78\n0.023742400601071637\nTOR (rating: 81658.17454605593) vs IND (rating: 84461.68979821842)\nPredicted Score Margin: IND by 100.12554472008871\n9.799678479544974e-08\n0.9999999020032152\n1.0\nScore: TOR 92, IND 73\n-1.8795447091084247\nTOR (rating: 81756.29500134682) vs ORL (rating: 89201.37501735835)\nPredicted Score Margin: ORL by 265.8957148575547\n2.439495155336019e-19\n1.0\n1.0\nScore: TOR 112, ORL 101\n-0.493004111005957\nUTA (rating: 78755.6732552979) vs DEN (rating: 84466.20133187973)\nPredicted Score Margin: DEN by 203.947431306494\n5.29273083864187e-15\n0.9999999999999947\n1.0\nScore: UTA 106, DEN 96\n-0.6057534448390829\nUTA (rating: 78855.06750185306) vs OKC (rating: 83094.57285144868)\nPredicted Score Margin: OKC by 151.41090534270083\n2.519049061580651e-11\n0.9999999999748095\n1.0\nScore: UTA 96, OKC 87\n-0.7653274511513891\nUTA (rating: 78954.3021744019) vs LAL (rating: 82765.03947790647)\nPredicted Score Margin: LAL by 136.09776083944857\n2.9727387285211055e-10\n0.9999999997027261\n1.0\nScore: UTA 96, LAL 81\n-1.1776777623383918\nUTA (rating: 79053.12449663956) vs DAL (rating: 83471.91675204577)\nPredicted Score Margin: DAL by 157.81400912165034\n8.974688040753992e-12\n0.9999999999910253\n1.0\nScore: UTA 104, DAL 89\n-1.0156215369151738\nUTA (rating: 79152.10887510264) vs POR (rating: 82405.90126764662)\nPredicted Score Margin: POR by 116.2068711622851\n7.3370083858622045e-09\n0.9999999926629917\n1.0\nScore: UTA 112, POR 103\n-0.9971778798978316\nUTA (rating: 79251.11169722275) vs TOR (rating: 81755.80199723582)\nPredicted Score Margin: TOR by 89.45322500046677\n5.473612041460143e-07\n0.9999994526387959\n1.0\nScore: UTA 100, TOR 109\n-7.090591359449113e-07\nUTA (rating: 79351.11169651369) vs PHI (rating: 84207.81517994269)\nPredicted Score Margin: PHI by 173.45369583674983\n7.215082335209889e-13\n0.9999999999992785\n1.0\nScore: UTA 97, PHI 104\n-4.165980032398282e-13\nUTA (rating: 79451.11169651369) vs MIA (rating: 84141.50217558508)\nPredicted Score Margin: MIA by 167.51394568112093\n1.8794198190961955e-12\n0.9999999999981206\n1.0\nScore: UTA 74, MIA 84\n-1.3860757532684237e-12\nUTA (rating: 79551.11169651369) vs BRK (rating: 84660.86816898463)\nPredicted Score Margin: BRK by 182.49130258824775\n1.6811591118976147e-13\n0.9999999999998319\n1.0\nScore: UTA 114, BRK 106\n-0.5922859458899922\nUTA (rating: 79650.5194105678) vs MIN (rating: 83409.0214335694)\nPredicted Score Margin: MIN by 134.23221510720032\n4.015549115944243e-10\n0.9999999995984451\n1.0\nScore: UTA 98, MIN 109\n-3.9214805418915936e-10\nUTA (rating: 79750.5194105674) vs CHI (rating: 83237.11960437415)\nPredicted Score Margin: CHI by 124.5214354930982\n1.920876815051487e-09\n0.9999999980791232\n1.0\nScore: UTA 110, CHI 80\n-2.0903859753414054\nUTA (rating: 79848.42902459206) vs MIL (rating: 83350.6729206131)\nPredicted Score Margin: MIL by 125.08013914360865\n1.755457255931647e-09\n0.9999999982445428\n1.0\nScore: UTA 121, MIL 108\n-1.1661840042715723\nUTA (rating: 79947.26284058779) vs DEN (rating: 84466.80708532456)\nPredicted Score Margin: DEN by 161.41229445488457\n5.025038438048348e-12\n0.9999999999949749\n1.0\nScore: UTA 106, DEN 77\n-1.5734133191320383\nUTA (rating: 80045.68942726866) vs NOP (rating: 91302.46143985106)\nPredicted Score Margin: NOP by 402.02757187794276\n7.212236651052693e-29\n1.0\n1.0\nScore: UTA 114, NOP 108\n-0.22898003593107327\nUTA (rating: 80145.46044723273) vs WAS (rating: 78264.21241291524)\nPredicted Score Margin: UTA by 67.18742979705348\n0.9999801906004806\n1.9809399519399307e-05\n1.0\nScore: UTA 116, WAS 69\n0.00010700861355648547\nUTA (rating: 80245.46055424135) vs HOU (rating: 83821.61854205071)\nPredicted Score Margin: HOU by 127.71992813604864\n1.1471099054699882e-09\n0.9999999988528901\n1.0\nScore: UTA 101, HOU 112\n-1.177357198741745e-09\nUTA (rating: 80345.46055424017) vs SAS (rating: 81934.8816219395)\nPredicted Score Margin: SAS by 56.765038132118725\n0.0001062676744999594\n0.9998937323255\n1.0\nScore: UTA 100, SAS 89\n-2.309057730844954\nUTA (rating: 80443.15149650932) vs OKC (rating: 83095.33817889984)\nPredicted Score Margin: OKC by 94.72095294251838\n2.3417104409308282e-07\n0.9999997658289559\n1.0\nScore: UTA 89, OKC 103\n-3.785347211127177e-07\nUTA (rating: 80543.15149613078) vs CLE (rating: 79754.81419089192)\nPredicted Score Margin: UTA by 28.154903758530832\n0.9894187524669951\n0.010581247533004934\n1.0\nScore: UTA 104, CLE 101\n0.025012855714964036\nUTA (rating: 80643.1765089865) vs NOP (rating: 91302.69041988699)\nPredicted Score Margin: NOP by 380.69692538930343\n2.244994196996036e-27\n1.0\n1.0\nScore: UTA 98, NOP 108\n-7.2853427023888455e-28\nUTA (rating: 80743.1765089865) vs IND (rating: 84463.56934292753)\nPredicted Score Margin: IND by 132.8711726407512\n5.00055162152669e-10\n0.9999999994999449\n1.0\nScore: UTA 94, IND 109\n-6.032045401934702e-10\nUTA (rating: 80843.1765089859) vs NYK (rating: 86500.82929790368)\nPredicted Score Margin: NYK by 202.05902817563506\n7.175762029189324e-15\n0.9999999999999928\n1.0\nScore: UTA 115, NYK 117\n-2.0427970491910797e-15\nUTA (rating: 80943.1765089859) vs LAC (rating: 77766.15562084294)\nPredicted Score Margin: UTA by 113.46503171939132\n0.9999999885857397\n1.1414260314701608e-08\n1.0\nScore: UTA 125, LAC 113\n1.3935359975436457e-08\nUTA (rating: 81043.17650899984) vs GSW (rating: 79616.10323589148)\nPredicted Score Margin: UTA by 50.96690261101269\n0.9997294800390831\n0.0002705199609168707\n1.0\nScore: UTA 129, GSW 99\n0.0013815979407575509\nUTA (rating: 81143.17789059778) vs CHO (rating: 84658.89498557601)\nPredicted Score Margin: CHO by 125.56132482065108\n1.6244534164928033e-09\n0.9999999983755465\n1.0\nScore: UTA 106, CHO 94\n-1.1032566851271184\nUTA (rating: 81242.07463391266) vs SAS (rating: 81937.19067967034)\nPredicted Score Margin: SAS by 24.82557306277418\n0.01796132930604061\n0.9820386706939593\n1.0\nScore: UTA 101, SAS 99\n-2.275436715632578\nUTA (rating: 81339.79919719703) vs PHO (rating: 83797.53595758723)\nPredicted Score Margin: PHO by 87.77631287107839\n7.172289113030118e-07\n0.9999992827710887\n1.0\nScore: UTA 107, PHO 97\n-1.4074613803116878\nUTA (rating: 81438.39173581672) vs POR (rating: 82406.89844552652)\nPredicted Score Margin: POR by 34.58952534677831\n0.0037765044944626067\n0.9962234955055373\n1.0\nScore: UTA 81, POR 100\n-0.020546743465926963\nUTA (rating: 81538.37118907325) vs DAL (rating: 83472.93237358269)\nPredicted Score Margin: DAL by 69.09147087533711\n1.4574400817740409e-05\n0.9999854255991822\n1.0\nScore: UTA 97, DAL 90\n-1.4495349211367083\nUTA (rating: 81636.92165415212) vs HOU (rating: 83821.61854205189)\nPredicted Score Margin: HOU by 78.0248888535633\n3.4534747134462887e-06\n0.9999965465252866\n1.0\nScore: UTA 85, HOU 96\n-5.802097210062855e-06\nUTA (rating: 81736.92164835002) vs MIN (rating: 83409.0214335698)\nPredicted Score Margin: MIN by 59.71784947213486\n6.602704495415417e-05\n0.9999339729550458\n1.0\nScore: UTA 116, MIN 108\n-1.8098424182737707\nUTA (rating: 81835.11180593175) vs ORL (rating: 89201.86802146936)\nPredicted Score Margin: ORL by 263.09843626920025\n3.82921244013942e-19\n1.0\n1.0\nScore: UTA 94, ORL 80\n-0.5819696288560903\nUTA (rating: 81934.5298363029) vs DET (rating: 77992.59275774292)\nPredicted Score Margin: UTA by 140.78346709142767\n0.9999999998603126\n1.396873727799175e-10\n1.0\nScore: UTA 110, DET 79\n2.645136431139894e-10\nUTA (rating: 82034.52983630316) vs PHO (rating: 83798.94341896754)\nPredicted Score Margin: PHO by 63.014770809442\n3.881049553067001e-05\n0.9999611895044693\n1.0\nScore: UTA 116, PHO 88\n-3.9290683972177605\nUTA (rating: 82130.60076790594) vs SAC (rating: 83001.24540427446)\nPredicted Score Margin: SAC by 31.094451298875875\n0.006614639267266957\n0.9933853607327331\n1.0\nScore: UTA 103, SAC 97\n-2.940954572199262\nUTA (rating: 82227.65981333374) vs ATL (rating: 84401.27724089076)\nPredicted Score Margin: ATL by 77.62919384132225\n3.680906894852663e-06\n0.9999963190931052\n1.0\nScore: UTA 94, ATL 99\n-3.972475217272928e-06\nUTA (rating: 82327.65980936127) vs BOS (rating: 80616.43081552858)\nPredicted Score Margin: UTA by 61.11532120831024\n0.9999472885913301\n5.2711408669914306e-05\n1.0\nScore: UTA 94, BOS 97\n1.0889487966495663\nUTA (rating: 82428.74875815792) vs MEM (rating: 83219.05577258988)\nPredicted Score Margin: MEM by 28.2252505154273\n0.010463197306576404\n0.9895368026934236\n1.0\nScore: UTA 107, MEM 97\n-4.331200396821904\nUTA (rating: 82524.4175577611) vs LAL (rating: 82766.21715566881)\nPredicted Score Margin: LAL by 8.635699925275341\n0.1991029516337718\n0.8008970483662282\n1.0\nScore: UTA 117, LAL 110\n-9.2883506141599\nUTA (rating: 82615.12920714694) vs LAC (rating: 77766.155620829)\nPredicted Score Margin: UTA by 173.17762808278349\n0.9999999999992457\n7.542855229303314e-13\n1.0\nScore: UTA 117, LAC 95\n9.079364314798726e-13\nUTA (rating: 82715.12920714694) vs GSW (rating: 79616.10185429353)\nPredicted Score Margin: UTA by 110.67954831619292\n0.999999982117361\n1.7882639036237435e-08\n1.0\nScore: UTA 119, GSW 79\n5.1975472633613314e-08\nWAS (rating: 78364.21230590662) vs PHI (rating: 84207.81517994269)\nPredicted Score Margin: PHI by 208.70010264414512\n2.4603268994701238e-15\n0.9999999999999976\n1.0\nScore: WAS 120, PHI 115\n-0.40142903135952424\nWAS (rating: 78463.81087687526) vs DET (rating: 77992.59275774266)\nPredicted Score Margin: WAS by 16.8292185404498\n0.9377631148603738\n0.06223688513962622\n1.0\nScore: WAS 115, DET 111\n0.2784336888403652\nWAS (rating: 78564.0893105641) vs PHO (rating: 83802.87248736476)\nPredicted Score Margin: PHO by 187.09939917145206\n7.99911716402614e-14\n0.9999999999999201\n1.0\nScore: WAS 116, PHO 122\n-3.9357102988546995e-14\nWAS (rating: 78664.0893105641) vs CLE (rating: 79754.78917803621)\nPredicted Score Margin: CLE by 38.95356669543253\n0.0018725625148145277\n0.9981274374851855\n1.0\nScore: WAS 122, CLE 130\n-0.005195922862675676\nWAS (rating: 78764.08411464124) vs DAL (rating: 83474.38190850383)\nPredicted Score Margin: DAL by 168.224921209378\n1.6759286116135289e-12\n0.9999999999983241\n1.0\nScore: WAS 99, DAL 113\n-1.5254000961427308e-12\nWAS (rating: 78864.08411464124) vs LAL (rating: 82775.50550628298)\nPredicted Score Margin: LAL by 139.69362113006198\n1.6651237712276896e-10\n0.9999999998334876\n1.0\nScore: WAS 111, LAL 95\n-1.1980798278502758\nWAS (rating: 78962.88603481339) vs ATL (rating: 84401.27724486323)\nPredicted Score Margin: ATL by 194.22825750178006\n2.5352569087687492e-14\n0.9999999999999747\n1.0\nScore: WAS 113, ATL 94\n-0.968913888678489\nWAS (rating: 79061.91712092471) vs SAC (rating: 83004.18635884667)\nPredicted Score Margin: SAC by 140.795329925784\n1.3942058643112505e-10\n0.9999999998605794\n1.0\nScore: WAS 110, SAC 92\n-1.2877947090521782\nWAS (rating: 79160.62932621567) vs MIA (rating: 84141.50217558508)\nPredicted Score Margin: MIA by 177.8883160489074\n3.530350918274198e-13\n0.999999999999647\n1.0\nScore: WAS 88, MIA 91\n-1.320842101417358e-13\nWAS (rating: 79260.62932621567) vs POR (rating: 82406.91899226999)\nPredicted Score Margin: POR by 112.36748807336855\n1.362309637345712e-08\n0.9999999863769036\n1.0\nScore: WAS 105, POR 108\n-8.068923672328505e-09\nWAS (rating: 79360.6293262076) vs DET (rating: 77992.31432405382)\nPredicted Score Margin: WAS by 48.86839293406384\n0.9996206433418371\n0.0003793566581629104\n1.0\nScore: WAS 109, DET 91\n0.0014075198876319828\nWAS (rating: 79460.63073372749) vs MEM (rating: 83223.3869729867)\nPredicted Score Margin: MEM by 134.38415140211458\n3.918405719345389e-10\n0.9999999996081594\n1.0\nScore: WAS 93, MEM 87\n-0.6850233964149851\nWAS (rating: 79559.94571033107) vs LAC (rating: 77766.155620829)\nPredicted Score Margin: WAS by 64.06393176793115\n0.9999672274267323\n3.2772573267725313e-05\n1.0\nScore: WAS 100, LAC 91\n5.927907272197708e-05\nWAS (rating: 79659.94576961015) vs CLE (rating: 79754.79437395907)\nPredicted Score Margin: CLE by 3.3874501553187395\n0.36679468862070763\n0.6332053113792924\n1.0\nScore: WAS 99, CLE 106\n-10.844501053497863\nWAS (rating: 79749.10126855665) vs NOP (rating: 91302.69041988699)\nPredicted Score Margin: NOP by 412.62818397608345\n1.3062524610020667e-29\n1.0\n1.0\nScore: WAS 116, NOP 106\n-0.2994023769524001\nWAS (rating: 79848.8018661797) vs ORL (rating: 89202.44999109821)\nPredicted Score Margin: ORL by 334.05886160423273\n4.129330915780929e-24\n1.0\n1.0\nScore: WAS 130, ORL 103\n-0.7219937823158606\nWAS (rating: 79948.07987239739) vs HOU (rating: 83821.61854785398)\nPredicted Score Margin: HOU by 138.34066698059283\n2.0708722630322324e-10\n0.9999999997929128\n1.0\nScore: WAS 121, HOU 103\n-1.3106448370011643\nWAS (rating: 80046.76922756039) vs CHI (rating: 83239.2099903495)\nPredicted Score Margin: CHI by 114.01574152818232\n1.044475094018235e-08\n0.999999989555249\n1.0\nScore: WAS 114, CHI 110\n-0.660348296589781\nWAS (rating: 80146.1088792638) vs NYK (rating: 86500.82929790368)\nPredicted Score Margin: NYK by 226.95430066570978\n1.297773654196969e-16\n0.9999999999999999\n1.0\nScore: WAS 121, NYK 103\n-0.7989074471429667\nWAS (rating: 80245.30997181666) vs MIL (rating: 83351.83910461736)\nPredicted Score Margin: MIL by 110.94746902859644\n1.7126836845940367e-08\n0.9999999828731632\n1.0\nScore: WAS 103, MIL 110\n-1.546034609144874e-08\nWAS (rating: 80345.30997180121) vs UTA (rating: 82715.12920719892)\nPredicted Score Margin: UTA by 84.6364012642038\n1.189738169081375e-06\n0.9999988102618309\n1.0\nScore: WAS 104, UTA 107\n-9.355664875169897e-07\nWAS (rating: 80445.30997086564) vs ORL (rating: 89203.17198488052)\nPredicted Score Margin: ORL by 312.78078621481734\n1.2745150406050455e-22\n1.0\n1.0\nScore: WAS 125, ORL 119\n-0.29431567382361323\nWAS (rating: 80545.01565519182) vs BRK (rating: 84661.46045493052)\nPredicted Score Margin: BRK by 147.0158857049537\n5.115498959090459e-11\n0.999999999948845\n1.0\nScore: WAS 119, BRK 113\n-0.6261655834522004\nWAS (rating: 80644.38948960837) vs MIL (rating: 83351.83910463282)\nPredicted Score Margin: MIL by 96.69462910801614\n1.7036323901029388e-07\n0.999999829636761\n1.0\nScore: WAS 95, MIL 104\n-2.041634443635745e-07\nWAS (rating: 80744.3894894042) vs OKC (rating: 83095.33817927838)\nPredicted Score Margin: OKC by 83.96245320979195\n1.3262570311528003e-06\n0.9999986737429688\n1.0\nScore: WAS 102, OKC 96\n-1.096396808863829\nWAS (rating: 80843.29309259534) vs TOR (rating: 81755.80199794487)\nPredicted Score Margin: TOR by 32.58960376248329\n0.005205484037734673\n0.9947945159622653\n1.0\nScore: WAS 122, TOR 119\n-2.0315838564326523\nWAS (rating: 80941.26150873891) vs BOS (rating: 80615.34186673193)\nPredicted Score Margin: WAS by 11.639987214534942\n0.867167621634937\n0.132832378365063\n1.0\nScore: WAS 104, BOS 110\n6.858103082374507\nWAS (rating: 81048.11961182128) vs CHO (rating: 84659.99824226114)\nPredicted Score Margin: CHO by 128.99566537285187\n9.339065545932254e-10\n0.9999999990660935\n1.0\nScore: WAS 105, CHO 122\n-1.2624429272710806e-09\nWAS (rating: 81148.11961182002) vs PHI (rating: 84208.21660897405)\nPredicted Score Margin: PHI by 109.28917846978688\n2.2374714239601396e-08\n0.9999999776252858\n1.0\nScore: WAS 109, PHI 94\n-1.4665615127706353\nWAS (rating: 81246.65305030724) vs GSW (rating: 79616.10185424155)\nPredicted Score Margin: WAS by 58.233971288060275\n0.9999161340664259\n8.38659335741232e-05\n1.0\nScore: WAS 101, GSW 109\n1.8559264731505634\nWAS (rating: 81348.50897678039) vs TOR (rating: 81757.8335818013)\nPredicted Score Margin: TOR by 14.618735893604025\n0.08656933379086285\n0.9134306662091372\n1.0\nScore: WAS 95, TOR 102\n-0.5930805830123952\nWAS (rating: 81447.91589619737) vs IND (rating: 84463.56934292812)\nPredicted Score Margin: IND by 107.7019088118125\n2.8897905771902853e-08\n0.9999999711020943\n1.0\nScore: WAS 95, IND 98\n-1.785761358045907e-08\nWAS (rating: 81547.91589617952) vs MIA (rating: 84141.50217558508)\nPredicted Score Margin: MIA by 92.62808140734134\n3.2812110012516995e-07\n0.9999996718788998\n1.0\nScore: WAS 117, MIA 113\n-0.8128212917805744\nWAS (rating: 81647.10307488774) vs MIN (rating: 83410.83127598806)\nPredicted Score Margin: MIN by 62.990292896440224\n3.896391390974119e-05\n0.9999610360860902\n1.0\nScore: WAS 111, MIN 116\n-5.1822741905725175e-05\nWAS (rating: 81747.10302306499) vs IND (rating: 84463.56934294598)\nPredicted Score Margin: IND by 97.01665428146381\n1.6174621628688462e-07\n0.9999998382537837\n1.0\nScore: WAS 109, IND 102\n-1.032317017978585\nWAS (rating: 81846.07070604702) vs DEN (rating: 84468.38049864369)\nPredicted Score Margin: DEN by 93.65392116416686\n2.781156306262834e-07\n0.9999997218843694\n1.0\nScore: WAS 100, DEN 108\n-3.2097634766224656e-07\nWAS (rating: 81946.07070572604) vs NYK (rating: 86501.62820535082)\nPredicted Score Margin: NYK by 162.6984821294562\n4.084192946354002e-12\n0.9999999999959158\n1.0\nScore: WAS 97, NYK 101\n-1.8899948998094743e-12\nWAS (rating: 82046.07070572604) vs SAS (rating: 81939.46611638597)\nPredicted Score Margin: WAS by 3.807306762145475\n0.6487764628989192\n0.3512235371010808\n1.0\nScore: WAS 116, SAS 106\n11.396719895947275\nWAS (rating: 82157.46742562199) vs CHO (rating: 84659.9982422624)\nPredicted Score Margin: CHO by 89.3761005943005\n5.542079070624505e-07\n0.999999445792093\n1.0\nScore: WAS 107, CHO 93\n-1.7131561282307586\nWAS (rating: 82255.75426949376) vs ATL (rating: 84402.2461587519)\nPredicted Score Margin: ATL by 76.66042461636243\n4.302970890439307e-06\n0.9999956970291095\n1.0\nScore: WAS 97, ATL 103\n-5.167144962991219e-06\nWAS (rating: 82355.75426432662) vs BOS (rating: 80608.48376364956)\nPredicted Score Margin: WAS by 62.40251788132342\n0.9999571643713796\n4.2835628620396804e-05\n1.0\nScore: WAS 113, BOS 101\n9.50901404858167e-05\nUpsets:  2771\nTied Elo:  0\n"
    },
    {
     "output_type": "execute_result",
     "data": {
      "text/plain": "{'HOU': 83822.92919269098,\n 'LAL': 82776.70358611083,\n 'NOP': 91302.98982226395,\n 'ORL': 89203.46630055434,\n 'SAS': 81928.06939649003,\n 'DAL': 83474.38190850383,\n 'BOS': 80608.48366855942,\n 'BRK': 84662.08662051398,\n 'MIL': 83351.83910483698,\n 'CHO': 84661.71139839063,\n 'DEN': 84468.38049896466,\n 'DET': 77992.31291653393,\n 'IND': 84464.60165996396,\n 'PHI': 84209.68317048682,\n 'MEM': 83224.07199638312,\n 'MIN': 83410.83132781081,\n 'WAS': 82355.75435941677,\n 'MIA': 84142.31499687686,\n 'NYK': 86501.62820535082,\n 'CHI': 83239.87033864608,\n 'PHO': 83802.87248736476,\n 'OKC': 83096.43457608724,\n 'POR': 82406.91899227805,\n 'GSW': 79614.24592776841,\n 'SAC': 83005.47415355571,\n 'TOR': 81758.42666238431,\n 'ATL': 84402.24616391904,\n 'UTA': 82715.12920813449,\n 'CLE': 79765.63887501256,\n 'LAC': 77766.15556154992}"
     },
     "metadata": {},
     "execution_count": 84
    }
   ],
   "source": [
    "def elo():\n",
    "    every_elo = {'HOU': 1596.4641,\n",
    " 'LAL': 1421.9985,\n",
    " 'NOP': 1457.2185,\n",
    " 'ORL': 1359.4265,\n",
    " 'SAS': 1699.5024,\n",
    " 'DAL': 1592.0101,\n",
    " 'BOS': 1378.5464,\n",
    " 'BRK': 1518.2666,\n",
    " 'MIL': 1317.8491,\n",
    " 'CHO': 1511.0031,\n",
    " 'DEN': 1473.0493,\n",
    " 'DET': 1389.2994,\n",
    " 'IND': 1532.6748,\n",
    " 'PHI': 1316.4243,\n",
    " 'MEM': 1578.4064,\n",
    " 'MIN': 1513.3354,\n",
    " 'WAS': 1541.4388,\n",
    " 'MIA': 1579.3748,\n",
    " 'NYK': 1534.4419,\n",
    " 'CHI': 1547.2185,\n",
    " 'PHO': 1560.1208,\n",
    " 'OKC': 1619.7805,\n",
    " 'POR': 1567.8318,\n",
    " 'GSW': 1590.7976,\n",
    " 'SAC': 1431.1567,\n",
    " 'TOR': 1550.7469,\n",
    " 'ATL': 1490.1147,\n",
    " 'UTA': 1373.317,\n",
    " 'CLE': 1463.7213,\n",
    " 'LAC': 1630.6335}\n",
    "    upsets = 0\n",
    "    tied_elo = 0\n",
    "    for index, game in games_data.iterrows():\n",
    "        home_team = game.Team\n",
    "        home_team_rating = every_elo[home_team] + 100\n",
    "\n",
    "        opponent = game.Opponent\n",
    "        opponent_rating = every_elo[opponent]\n",
    "\n",
    "        print(\"{} (rating: {}) vs {} (rating: {})\".format(home_team, home_team_rating, opponent, opponent_rating))\n",
    "\n",
    "        if home_team_rating > opponent_rating:\n",
    "            print(\"Predicted Score Margin: {} by {}\".format(home_team, ((home_team_rating - opponent_rating)/28) ))\n",
    "        elif home_team_rating < opponent_rating:\n",
    "            print(\"Predicted Score Margin: {} by {}\".format(opponent, ((opponent_rating - home_team_rating)/28) ))\n",
    "        else:\n",
    "            tied_elo += 1\n",
    "            print(\"Predicted Score: ELO's are tied! Could go either way\")\n",
    "\n",
    "        if game.WINorLOSS == \"W\":\n",
    "            S = 1\n",
    "            winner_loser_elo_diff = home_team_rating - opponent_rating\n",
    "            if home_team_rating < opponent_rating:\n",
    "                upsets += 1\n",
    "        else:\n",
    "            S = 0\n",
    "            winner_loser_elo_diff = opponent_rating - home_team_rating\n",
    "            if home_team_rating > opponent_rating:\n",
    "                upsets += 1\n",
    "\n",
    "        expected_home_win = ( 1 / (1 + 10 ** ((opponent_rating - home_team_rating) / 400)) )\n",
    "        expected_away_win = 1 - expected_home_win\n",
    "\n",
    "        print(expected_home_win)\n",
    "        print(expected_away_win)\n",
    "        print(expected_home_win + expected_away_win)\n",
    "\n",
    "        margin_of_victory = abs(game.TeamPoints - game.OpponentPoints)\n",
    "        K = 20 * ( pow((margin_of_victory + 3), 0.8) / (7.5 * 0.006 * winner_loser_elo_diff) )\n",
    "\n",
    "        home_team_rating += K * (S - expected_home_win)\n",
    "        opponent_rating += K * (abs(S - 1) - expected_away_win)\n",
    "        \n",
    "        every_elo[home_team] = home_team_rating\n",
    "        every_elo[opponent] = opponent_rating\n",
    "\n",
    "        print(\"Score: {} {}, {} {}\".format(home_team, game.TeamPoints, opponent, game.OpponentPoints))\n",
    "        print(K * (S - expected_home_win))\n",
    "    #print(every_elo)\n",
    "    print(\"Upsets: \", upsets)\n",
    "    print(\"Tied Elo: \", tied_elo)\n",
    "    return every_elo\n",
    "elo()"
   ]
  },
  {
   "cell_type": "code",
   "execution_count": 79,
   "metadata": {},
   "outputs": [
    {
     "output_type": "execute_result",
     "data": {
      "text/plain": "[('ATL', 1594.2922),\n ('BOS', 1551.8619),\n ('BRK', 1467.5382),\n ('CHI', 1583.3149),\n ('CHO', 1400.7305),\n ('CLE', 1630.6193),\n ('DAL', 1564.1244),\n ('DEN', 1422.3618),\n ('DET', 1461.0784),\n ('GSW', 1772.3469),\n ('HOU', 1639.3665),\n ('IND', 1504.8713),\n ('LAC', 1705.4121),\n ('LAL', 1283.2395),\n ('MEM', 1587.3375),\n ('MIA', 1455.8601),\n ('MIL', 1472.0676),\n ('MIN', 1263.958),\n ('NOP', 1539.7662),\n ('NYK', 1255.6846),\n ('OKC', 1583.2285),\n ('ORL', 1311.8915),\n ('PHI', 1276.1891),\n ('PHO', 1466.8416),\n ('POR', 1579.5515),\n ('SAC', 1418.2802),\n ('SAS', 1732.7263),\n ('TOR', 1547.5518),\n ('UTA', 1555.2854),\n ('WAS', 1508.7924)]"
     },
     "metadata": {},
     "execution_count": 79
    }
   ],
   "source": [
    "after_elos = {}\n",
    "for i, last_game in elo_data[elo_data.year_id == 2015][elo_data.seasongame == 82].iterrows():\n",
    "    after_elos[last_game.team_id] = last_game.elo_n\n",
    "sorted(after_elos.items())"
   ]
  },
  {
   "cell_type": "code",
   "execution_count": null,
   "metadata": {},
   "outputs": [],
   "source": []
  }
 ]
}